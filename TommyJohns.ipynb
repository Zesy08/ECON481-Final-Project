{
 "cells": [
  {
   "cell_type": "code",
   "execution_count": 91,
   "id": "decef2a0-ce1a-42c6-8691-fd0402d68a20",
   "metadata": {},
   "outputs": [
    {
     "name": "stdout",
     "output_type": "stream",
     "text": [
      "Optimization terminated successfully.\n",
      "         Current function value: 0.650650\n",
      "         Iterations 4\n"
     ]
    },
    {
     "data": {
      "text/html": [
       "<table class=\"simpletable\">\n",
       "<caption>Logit Regression Results</caption>\n",
       "<tr>\n",
       "  <th>Dep. Variable:</th>          <td>TJ</td>        <th>  No. Observations:  </th>  <td>  1780</td>  \n",
       "</tr>\n",
       "<tr>\n",
       "  <th>Model:</th>                 <td>Logit</td>      <th>  Df Residuals:      </th>  <td>  1778</td>  \n",
       "</tr>\n",
       "<tr>\n",
       "  <th>Method:</th>                 <td>MLE</td>       <th>  Df Model:          </th>  <td>     1</td>  \n",
       "</tr>\n",
       "<tr>\n",
       "  <th>Date:</th>            <td>Mon, 20 May 2024</td> <th>  Pseudo R-squ.:     </th> <td>-0.001236</td>\n",
       "</tr>\n",
       "<tr>\n",
       "  <th>Time:</th>                <td>23:22:05</td>     <th>  Log-Likelihood:    </th> <td> -1158.2</td> \n",
       "</tr>\n",
       "<tr>\n",
       "  <th>converged:</th>             <td>True</td>       <th>  LL-Null:           </th> <td> -1156.7</td> \n",
       "</tr>\n",
       "<tr>\n",
       "  <th>Covariance Type:</th>     <td>nonrobust</td>    <th>  LLR p-value:       </th>  <td> 1.000</td>  \n",
       "</tr>\n",
       "</table>\n",
       "<table class=\"simpletable\">\n",
       "<tr>\n",
       "        <td></td>           <th>coef</th>     <th>std err</th>      <th>z</th>      <th>P>|z|</th>  <th>[0.025</th>    <th>0.975]</th>  \n",
       "</tr>\n",
       "<tr>\n",
       "  <th>velocity</th>      <td>   -0.0062</td> <td>    0.001</td> <td>   -8.436</td> <td> 0.000</td> <td>   -0.008</td> <td>   -0.005</td>\n",
       "</tr>\n",
       "<tr>\n",
       "  <th>total_pitches</th> <td>-3.608e-06</td> <td> 7.54e-06</td> <td>   -0.478</td> <td> 0.632</td> <td>-1.84e-05</td> <td> 1.12e-05</td>\n",
       "</tr>\n",
       "</table>"
      ],
      "text/latex": [
       "\\begin{center}\n",
       "\\begin{tabular}{lclc}\n",
       "\\toprule\n",
       "\\textbf{Dep. Variable:}   &        TJ        & \\textbf{  No. Observations:  } &     1780    \\\\\n",
       "\\textbf{Model:}           &      Logit       & \\textbf{  Df Residuals:      } &     1778    \\\\\n",
       "\\textbf{Method:}          &       MLE        & \\textbf{  Df Model:          } &        1    \\\\\n",
       "\\textbf{Date:}            & Mon, 20 May 2024 & \\textbf{  Pseudo R-squ.:     } & -0.001236   \\\\\n",
       "\\textbf{Time:}            &     23:22:05     & \\textbf{  Log-Likelihood:    } &   -1158.2   \\\\\n",
       "\\textbf{converged:}       &       True       & \\textbf{  LL-Null:           } &   -1156.7   \\\\\n",
       "\\textbf{Covariance Type:} &    nonrobust     & \\textbf{  LLR p-value:       } &    1.000    \\\\\n",
       "\\bottomrule\n",
       "\\end{tabular}\n",
       "\\begin{tabular}{lcccccc}\n",
       "                        & \\textbf{coef} & \\textbf{std err} & \\textbf{z} & \\textbf{P$> |$z$|$} & \\textbf{[0.025} & \\textbf{0.975]}  \\\\\n",
       "\\midrule\n",
       "\\textbf{velocity}       &      -0.0062  &        0.001     &    -8.436  &         0.000        &       -0.008    &       -0.005     \\\\\n",
       "\\textbf{total\\_pitches} &   -3.608e-06  &     7.54e-06     &    -0.478  &         0.632        &    -1.84e-05    &     1.12e-05     \\\\\n",
       "\\bottomrule\n",
       "\\end{tabular}\n",
       "%\\caption{Logit Regression Results}\n",
       "\\end{center}"
      ],
      "text/plain": [
       "<class 'statsmodels.iolib.summary.Summary'>\n",
       "\"\"\"\n",
       "                           Logit Regression Results                           \n",
       "==============================================================================\n",
       "Dep. Variable:                     TJ   No. Observations:                 1780\n",
       "Model:                          Logit   Df Residuals:                     1778\n",
       "Method:                           MLE   Df Model:                            1\n",
       "Date:                Mon, 20 May 2024   Pseudo R-squ.:               -0.001236\n",
       "Time:                        23:22:05   Log-Likelihood:                -1158.2\n",
       "converged:                       True   LL-Null:                       -1156.7\n",
       "Covariance Type:            nonrobust   LLR p-value:                     1.000\n",
       "=================================================================================\n",
       "                    coef    std err          z      P>|z|      [0.025      0.975]\n",
       "---------------------------------------------------------------------------------\n",
       "velocity         -0.0062      0.001     -8.436      0.000      -0.008      -0.005\n",
       "total_pitches -3.608e-06   7.54e-06     -0.478      0.632   -1.84e-05    1.12e-05\n",
       "=================================================================================\n",
       "\"\"\""
      ]
     },
     "execution_count": 91,
     "metadata": {},
     "output_type": "execute_result"
    }
   ],
   "source": [
    "import pandas as pd\n",
    "import statsmodels.api as sm\n",
    "\n",
    "tommy_johns = pd.read_csv('Tommy_John_Surgery_List.csv', skiprows = 1, usecols = [\"Player\", \"TJ Surgery Date\"])\n",
    "pitch_velocity = pd.read_csv('savant_data_pitch_velocity.csv', usecols = [\"player_name\", \"velocity\", \"total_pitches\"])\n",
    "tommy_johns = tommy_johns.dropna(how = 'all')\n",
    "\n",
    "\n",
    "tommy_johns['Player'] = tommy_johns['Player'].apply(lambda x: ', '.join(x.split()[::-1]))\n",
    "\n",
    "result = pd.merge(pitch_velocity, tommy_johns, how = 'left', left_on = ['player_name'], right_on = ['Player'])\n",
    "\n",
    "result['TJ'] = result['TJ Surgery Date'].notna().astype(int)\n",
    "result = result[['player_name', 'velocity', 'TJ', 'total_pitches']]\n",
    "result = result[result['total_pitches']>1000]\n",
    "\n",
    "model = sm.Logit(result['TJ'], result[['velocity', 'total_pitches']]).fit()\n",
    "model.summary()\n",
    "\n",
    "\n"
   ]
  },
  {
   "cell_type": "code",
   "execution_count": 94,
   "id": "98705b94-eece-4c86-9f51-a1e93421a8d2",
   "metadata": {},
   "outputs": [],
   "source": [
    "import pandas as pd\n",
    "import matplotlib.pyplot as plt\n",
    "\n",
    "tommy_johns = pd.read_csv('Tommy_John_Surgery_List.csv', skiprows = 1, usecols = [\"TJ Surgery Date\"])\n",
    "tommy_johns = tommy_johns.dropna(how = 'all')\n",
    "\n",
    "result = "
   ]
  },
  {
   "cell_type": "code",
   "execution_count": null,
   "id": "d186a75f-c203-4ec7-8439-d14a0c1ffdc5",
   "metadata": {},
   "outputs": [],
   "source": []
  }
 ],
 "metadata": {
  "kernelspec": {
   "display_name": "Python 3 (ipykernel)",
   "language": "python",
   "name": "python3"
  },
  "language_info": {
   "codemirror_mode": {
    "name": "ipython",
    "version": 3
   },
   "file_extension": ".py",
   "mimetype": "text/x-python",
   "name": "python",
   "nbconvert_exporter": "python",
   "pygments_lexer": "ipython3",
   "version": "3.10.13"
  }
 },
 "nbformat": 4,
 "nbformat_minor": 5
}
